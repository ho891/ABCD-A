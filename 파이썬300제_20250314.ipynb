{
  "nbformat": 4,
  "nbformat_minor": 0,
  "metadata": {
    "colab": {
      "provenance": [],
      "include_colab_link": true
    },
    "kernelspec": {
      "name": "python3",
      "display_name": "Python 3"
    },
    "language_info": {
      "name": "python"
    }
  },
  "cells": [
    {
      "cell_type": "markdown",
      "metadata": {
        "id": "view-in-github",
        "colab_type": "text"
      },
      "source": [
        "<a href=\"https://colab.research.google.com/github/ho891/ABCD-A/blob/20250314/%ED%8C%8C%EC%9D%B4%EC%8D%AC300%EC%A0%9C_20250314.ipynb\" target=\"_parent\"><img src=\"https://colab.research.google.com/assets/colab-badge.svg\" alt=\"Open In Colab\"/></a>"
      ]
    },
    {
      "cell_type": "code",
      "execution_count": 12,
      "metadata": {
        "colab": {
          "base_uri": "https://localhost:8080/"
        },
        "id": "WIXyLOgKj4Q_",
        "outputId": "2de5b6c8-8098-4613-cbd1-acf20388991c"
      },
      "outputs": [
        {
          "output_type": "stream",
          "name": "stdout",
          "text": [
            "Hello World\n"
          ]
        }
      ],
      "source": [
        "#화면에 Hello World 문자열을 출력하시오.\n",
        "print('Hello World')"
      ]
    },
    {
      "cell_type": "code",
      "source": [
        "#화면에 Marry's cosmetics를 출력하시오.\n",
        "print(\"Marry's cosmetics\")"
      ],
      "metadata": {
        "colab": {
          "base_uri": "https://localhost:8080/"
        },
        "id": "nFS6zoRXkQxE",
        "outputId": "9b738b99-2039-4b41-f941-58e41066dbe5"
      },
      "execution_count": 2,
      "outputs": [
        {
          "output_type": "stream",
          "name": "stdout",
          "text": [
            "Marry's cosmetics\n"
          ]
        }
      ]
    },
    {
      "cell_type": "code",
      "source": [
        "#화면에 신씨가 소리질렀다. \"도둑이야\" 를 출력하시오.\n",
        "print('신씨가 소리질렀다. \"도둑이야\"')"
      ],
      "metadata": {
        "colab": {
          "base_uri": "https://localhost:8080/"
        },
        "id": "Henzgox6lNh0",
        "outputId": "cdee38ee-7062-4df1-aa33-c2e139a07cee"
      },
      "execution_count": 3,
      "outputs": [
        {
          "output_type": "stream",
          "name": "stdout",
          "text": [
            "신씨가 소리질렀다. \"도둑이야\"\n"
          ]
        }
      ]
    },
    {
      "cell_type": "code",
      "source": [
        "#화면에 \"C:\\windows\"를 출력하시오.\n",
        "print('\"C:\\\\windows\"')"
      ],
      "metadata": {
        "colab": {
          "base_uri": "https://localhost:8080/"
        },
        "id": "0qVyweLMlub0",
        "outputId": "6debe73f-dcee-48ea-fb05-2c66b9be7d73"
      },
      "execution_count": 4,
      "outputs": [
        {
          "output_type": "stream",
          "name": "stdout",
          "text": [
            "\"C:\\windows\"\n"
          ]
        }
      ]
    },
    {
      "cell_type": "code",
      "source": [
        "#코드를 실행하고 \\t와 \\n의 역할을 설명하시오.\n",
        "print(\"안녕하세요.\\n 만나서\\t\\t반갑습니다.\")\n",
        "#\\n은 줄바꿈이고 \\t는 네칸 공백이다"
      ],
      "metadata": {
        "colab": {
          "base_uri": "https://localhost:8080/"
        },
        "id": "PK6ctZcsnMw9",
        "outputId": "e45da626-73b6-4b7c-f2a3-2fb7611f5d35"
      },
      "execution_count": 5,
      "outputs": [
        {
          "output_type": "stream",
          "name": "stdout",
          "text": [
            "안녕하세요.\n",
            " 만나서\t\t반갑습니다.\n"
          ]
        }
      ]
    },
    {
      "cell_type": "code",
      "source": [
        "#print 여러 데이터 출력\n",
        "print(\"오늘은\", \"일요일\")"
      ],
      "metadata": {
        "colab": {
          "base_uri": "https://localhost:8080/"
        },
        "id": "_w86SW3po63z",
        "outputId": "2fca1f22-bfdf-40dd-eeec-0c25053be639"
      },
      "execution_count": 6,
      "outputs": [
        {
          "output_type": "stream",
          "name": "stdout",
          "text": [
            "오늘은 일요일\n"
          ]
        }
      ]
    },
    {
      "cell_type": "code",
      "source": [
        "#print()함수를 이용하여 naver;kakao;sk;samsung 를 출력하시오.\n",
        "print(\"naver\", \"kakao\", \"sk\", \"samsung\", sep=';')"
      ],
      "metadata": {
        "colab": {
          "base_uri": "https://localhost:8080/"
        },
        "id": "dzJBhY-SpGGQ",
        "outputId": "e17c24f8-b56b-4ce7-c91d-c9eeef8ee4d0"
      },
      "execution_count": 9,
      "outputs": [
        {
          "output_type": "stream",
          "name": "stdout",
          "text": [
            "naver;kakao;sk;samsung\n"
          ]
        }
      ]
    },
    {
      "cell_type": "code",
      "source": [
        "#줄바꿈 없이 출력하시오.\n",
        "print(\"first\", end=';');print(\"second\")"
      ],
      "metadata": {
        "colab": {
          "base_uri": "https://localhost:8080/"
        },
        "id": "ETXEOgkrpSRF",
        "outputId": "f0ef0e24-fd11-4c55-b4e1-37a32bf03766"
      },
      "execution_count": 10,
      "outputs": [
        {
          "output_type": "stream",
          "name": "stdout",
          "text": [
            "first;second\n"
          ]
        }
      ]
    },
    {
      "cell_type": "code",
      "source": [
        "#5/3의 결과를 화면에 출력하시오\n",
        "print(5/3)"
      ],
      "metadata": {
        "colab": {
          "base_uri": "https://localhost:8080/"
        },
        "id": "3zrCKqALrdLZ",
        "outputId": "03ba3218-203f-4554-9478-c7caabba79ca"
      },
      "execution_count": 11,
      "outputs": [
        {
          "output_type": "stream",
          "name": "stdout",
          "text": [
            "1.6666666666666667\n"
          ]
        }
      ]
    }
  ]
}