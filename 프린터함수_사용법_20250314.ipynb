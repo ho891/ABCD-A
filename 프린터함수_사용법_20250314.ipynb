{
  "nbformat": 4,
  "nbformat_minor": 0,
  "metadata": {
    "colab": {
      "provenance": [],
      "include_colab_link": true
    },
    "kernelspec": {
      "name": "python3",
      "display_name": "Python 3"
    },
    "language_info": {
      "name": "python"
    }
  },
  "cells": [
    {
      "cell_type": "markdown",
      "metadata": {
        "id": "view-in-github",
        "colab_type": "text"
      },
      "source": [
        "<a href=\"https://colab.research.google.com/github/ho891/ABCD-A/blob/20250314/%ED%94%84%EB%A6%B0%ED%84%B0%ED%95%A8%EC%88%98_%EC%82%AC%EC%9A%A9%EB%B2%95_20250314.ipynb\" target=\"_parent\"><img src=\"https://colab.research.google.com/assets/colab-badge.svg\" alt=\"Open In Colab\"/></a>"
      ]
    },
    {
      "cell_type": "code",
      "execution_count": 1,
      "metadata": {
        "colab": {
          "base_uri": "https://localhost:8080/"
        },
        "id": "sN2gwJjN1nV0",
        "outputId": "ec80f277-8733-42a2-dc7d-59acef65b3bb"
      },
      "outputs": [
        {
          "output_type": "stream",
          "name": "stdout",
          "text": [
            "Hello\n",
            "Hello everyone\n",
            "Helloeyeryone\n"
          ]
        }
      ],
      "source": [
        "print(\"Hello\")\n",
        "print(\"Hello\", \"everyone\")\n",
        "print(\"Hello\" + \"eyeryone\")"
      ]
    },
    {
      "cell_type": "code",
      "source": [
        "print(\"Hello\", end=\"!!!\")\n",
        "print('test')"
      ],
      "metadata": {
        "colab": {
          "base_uri": "https://localhost:8080/"
        },
        "id": "XfzTBnIX2GVl",
        "outputId": "6f3da7da-5759-4be1-bb4b-1b1fc5322762"
      },
      "execution_count": 2,
      "outputs": [
        {
          "output_type": "stream",
          "name": "stdout",
          "text": [
            "Hello!!!test\n"
          ]
        }
      ]
    },
    {
      "cell_type": "code",
      "source": [
        "a = 123\n",
        "b = \"Hello\"\n",
        "print(a, b)\n",
        "print(a, 456, b, 'world')"
      ],
      "metadata": {
        "colab": {
          "base_uri": "https://localhost:8080/"
        },
        "id": "hedZ7PE329M1",
        "outputId": "f47fbdae-bf53-43cd-ece9-9ac794a57855"
      },
      "execution_count": 3,
      "outputs": [
        {
          "output_type": "stream",
          "name": "stdout",
          "text": [
            "123 Hello\n",
            "123 456 Hello world\n"
          ]
        }
      ]
    },
    {
      "cell_type": "code",
      "source": [
        "print('Hello \"Python\"')\n",
        "print(\"Hello 'Python'\")\n",
        "print('Hello', 'Python!')\n",
        "print('Hello' + 'Python!')"
      ],
      "metadata": {
        "colab": {
          "base_uri": "https://localhost:8080/"
        },
        "id": "Hr3e8ave3y3V",
        "outputId": "74d7e59e-ee75-4b91-8011-4b2964181408"
      },
      "execution_count": 4,
      "outputs": [
        {
          "output_type": "stream",
          "name": "stdout",
          "text": [
            "Hello \"Python\"\n",
            "Hello 'Python'\n",
            "Hello Python!\n",
            "HelloPython!\n"
          ]
        }
      ]
    },
    {
      "cell_type": "code",
      "source": [
        "print(\"화면에 직접 출력\")\n",
        "print('ab\\'c')\n",
        "print(\"ab'c\")\n",
        "print(\"doesnt\")\n",
        "print('does')\n",
        "print('doesn\\'t')\n",
        "print(\"'string'\")\n",
        "print(\"\\\"string\\\"\")\n",
        "print(\"string'\")"
      ],
      "metadata": {
        "colab": {
          "base_uri": "https://localhost:8080/"
        },
        "id": "IP_-w9yF5K5G",
        "outputId": "16cc77c7-a0f9-4cd3-fb15-42856bde6c52"
      },
      "execution_count": 5,
      "outputs": [
        {
          "output_type": "stream",
          "name": "stdout",
          "text": [
            "화면에 직접 출력\n",
            "ab'c\n",
            "ab'c\n",
            "doesnt\n",
            "does\n",
            "doesn't\n",
            "'string'\n",
            "\"string\"\n",
            "string'\n"
          ]
        }
      ]
    },
    {
      "cell_type": "code",
      "source": [
        "s1 = '화면에 직적 출력'\n",
        "s2 = 'ab\\'c'\n",
        "s3 = 'does'\n",
        "print(s1)\n",
        "print(s2)\n",
        "print(s3)\n",
        "print(s1[0]) #첫글자\n",
        "print(s2[1]) #두번째 글자\n",
        "print(s3[2]) #세번쨰 글자\n",
        "print(s3[1:3]) #\n",
        "print(s3[-1]) #마지막 글자\n",
        "print(s3[-2]) #뒤에서 두번쨰"
      ],
      "metadata": {
        "colab": {
          "base_uri": "https://localhost:8080/"
        },
        "id": "4t8dLZeL7WnI",
        "outputId": "08af0ea7-1766-4e5e-87c4-36c35e345fdb"
      },
      "execution_count": 6,
      "outputs": [
        {
          "output_type": "stream",
          "name": "stdout",
          "text": [
            "화면에 직적 출력\n",
            "ab'c\n",
            "does\n",
            "화\n",
            "b\n",
            "e\n",
            "oe\n",
            "s\n",
            "e\n"
          ]
        }
      ]
    },
    {
      "cell_type": "code",
      "source": [
        "a = 2\n",
        "b = 3.14\n",
        "c = a+b\n",
        "print(a)\n",
        "print(b)\n",
        "print(c)\n",
        "print(round(c, 2))\n",
        "print(\"%.2f\"%(c)) #소수점 셋째자리까지\n",
        "print(a+b)\n",
        "print(a, b, a+b, c)\n",
        "d = 1e2\n",
        "e = 1e-2\n",
        "print(d)\n",
        "print(e)"
      ],
      "metadata": {
        "colab": {
          "base_uri": "https://localhost:8080/"
        },
        "id": "PmOdrraz9Ok8",
        "outputId": "3fec124f-39da-4754-acb8-188ac6732d93"
      },
      "execution_count": 7,
      "outputs": [
        {
          "output_type": "stream",
          "name": "stdout",
          "text": [
            "2\n",
            "3.14\n",
            "5.140000000000001\n",
            "5.14\n",
            "5.14\n",
            "5.140000000000001\n",
            "2 3.14 5.140000000000001 5.140000000000001\n",
            "100.0\n",
            "0.01\n"
          ]
        }
      ]
    },
    {
      "cell_type": "code",
      "source": [
        "item1 = '사과'\n",
        "price1 = 1000\n",
        "item2 = '바나나'\n",
        "price2 = 500\n",
        "print(item1, price1)\n",
        "print(item2, price2)\n",
        "\n",
        "\n",
        "str1 = '{0}은 {1}원 입니다.'\n",
        "print(str1.format(item1, price1))\n",
        "print(str1.format(item2, price2))\n",
        "\n",
        "\n",
        "print(item1, price1, sep=',', end='/')\n",
        "print(item2, price2)\n",
        "\n",
        "str2 = '%s는 %d원입니다.'\n",
        "print(str2%(item1, price1))\n",
        "print(str2%(item2, price2))"
      ],
      "metadata": {
        "colab": {
          "base_uri": "https://localhost:8080/"
        },
        "id": "9jUu4cNoD1c3",
        "outputId": "1c3afd34-fca4-4fb7-92f6-025329b4e419"
      },
      "execution_count": 8,
      "outputs": [
        {
          "output_type": "stream",
          "name": "stdout",
          "text": [
            "사과 1000\n",
            "바나나 500\n",
            "사과은 1000원 입니다.\n",
            "바나나은 500원 입니다.\n",
            "사과,1000/바나나 500\n",
            "사과는 1000원입니다.\n",
            "바나나는 500원입니다.\n"
          ]
        }
      ]
    }
  ]
}